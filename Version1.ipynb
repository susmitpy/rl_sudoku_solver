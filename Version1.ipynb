{
 "cells": [
  {
   "cell_type": "code",
   "execution_count": 1,
   "id": "66acdf1b-9337-4584-9c99-d0be2c4e75d4",
   "metadata": {},
   "outputs": [],
   "source": [
    "import gym\n",
    "from gym import Env\n",
    "from gym.spaces import Discrete, Box, Dict as DictSpace, Tuple as TupleSpace\n",
    "\n",
    "import numpy as np\n",
    "from typing import Dict, Tuple"
   ]
  },
  {
   "cell_type": "code",
   "execution_count": 39,
   "id": "4e32901d-9e3a-4ab4-b949-63cd911c7ea1",
   "metadata": {},
   "outputs": [
    {
     "data": {
      "text/plain": [
       "array([[4, 6, 4, 2, 9, 1, 4, 4, 3],\n",
       "       [1, 3, 7, 7, 7, 7, 3, 5, 8],\n",
       "       [3, 5, 5, 8, 5, 1, 7, 2, 2],\n",
       "       [7, 2, 9, 6, 2, 1, 7, 6, 6],\n",
       "       [4, 4, 2, 8, 5, 1, 2, 9, 7],\n",
       "       [8, 7, 8, 9, 7, 1, 2, 1, 5],\n",
       "       [6, 6, 6, 5, 3, 8, 4, 9, 4],\n",
       "       [1, 6, 5, 4, 4, 5, 7, 4, 6],\n",
       "       [9, 3, 6, 6, 4, 6, 7, 6, 5]])"
      ]
     },
     "execution_count": 39,
     "metadata": {},
     "output_type": "execute_result"
    }
   ],
   "source": [
    "Box(low=1,high=9,shape=(9,9),dtype=int).sample()"
   ]
  },
  {
   "cell_type": "code",
   "execution_count": 47,
   "id": "a7360300-fae1-4db1-b42f-fb1e997e955f",
   "metadata": {},
   "outputs": [],
   "source": [
    "class SudokuEnv(Env):\n",
    "    \"\"\"\n",
    "    Sudoku Environment\n",
    "    \n",
    "    Observation Space:\n",
    "        9 x 9 sudoku grid\n",
    "        Box(low=1,high=9,shape=(9,9),dtype=int)\n",
    "        \n",
    "    Action Space: \n",
    "        Put num at given coord (coordinate)\n",
    "        {\n",
    "            \"coord\": Tuple((Box(low=1,high=9,shape=(),dtype=int),Box(low=1,high=9,shape=(),dtype=int))  \n",
    "                # coord: (x,y)  1 <= x <= 9, 1 <= y <= 9\n",
    "            \"num\": Box(low=1,high=9,shape=(),dtype=int)  # 1 <= num <= 9  \n",
    "        }\n",
    "    \n",
    "    \"\"\"\n",
    "    def __init__(self):\n",
    "        \"\"\"Initialise Sudoku Environment\"\"\"\n",
    "        self.observation_space = Box(low=1,high=9,shape=(9,9),dtype=int)\n",
    "        self.action_space = DictSpace({\n",
    "            \"coord\": TupleSpace((\n",
    "                Box(low=1,high=9,shape=(),dtype=int),\n",
    "                Box(low=1,high=9,shape=(),dtype=int)\n",
    "            )),\n",
    "            \"num\": Box(low=1,high=9,shape=(),dtype=int)\n",
    "        })\n",
    "        \n",
    "    def step(self, action):\n",
    "        \"\"\"Takes the action in the current state\"\"\"\n",
    "        \n",
    "    def render(self):\n",
    "        \"\"\"Renders the enviroment using pygame\"\"\"\n",
    "        \n",
    "    def reset(self):\n",
    "        \"\"\"Resets the environment to a random new game\"\"\"\n",
    "    \n",
    "    def close(self):\n",
    "        \"\"\"Close the environment\"\"\"\n",
    "    "
   ]
  },
  {
   "cell_type": "code",
   "execution_count": 48,
   "id": "5657f328-4e5e-4a15-8232-70a90d8990c5",
   "metadata": {},
   "outputs": [],
   "source": [
    "env = SudokuEnv()"
   ]
  },
  {
   "cell_type": "code",
   "execution_count": 50,
   "id": "256f7a71-2470-4ecb-bc20-e9ab09fe0c4c",
   "metadata": {},
   "outputs": [
    {
     "data": {
      "text/plain": [
       "array([[4, 6, 9, 6, 2, 6, 1, 8, 5],\n",
       "       [2, 9, 7, 1, 3, 3, 2, 8, 9],\n",
       "       [1, 3, 7, 4, 4, 8, 1, 3, 5],\n",
       "       [3, 3, 9, 6, 6, 5, 5, 9, 5],\n",
       "       [7, 3, 1, 3, 8, 8, 5, 8, 1],\n",
       "       [8, 9, 5, 6, 6, 9, 5, 3, 3],\n",
       "       [6, 3, 2, 7, 4, 7, 6, 6, 7],\n",
       "       [2, 4, 3, 3, 1, 3, 8, 8, 6],\n",
       "       [1, 8, 7, 2, 3, 1, 8, 8, 9]])"
      ]
     },
     "execution_count": 50,
     "metadata": {},
     "output_type": "execute_result"
    }
   ],
   "source": [
    "env.observation_space.sample()"
   ]
  },
  {
   "cell_type": "code",
   "execution_count": 61,
   "id": "30edb736-3a79-4dad-9289-f2ca01309dca",
   "metadata": {},
   "outputs": [
    {
     "data": {
      "text/plain": [
       "OrderedDict([('coord', (2, 2)), ('num', 1)])"
      ]
     },
     "execution_count": 61,
     "metadata": {},
     "output_type": "execute_result"
    }
   ],
   "source": [
    "env.action_space.sample()"
   ]
  }
 ],
 "metadata": {
  "kernelspec": {
   "display_name": "Python 3 (ipykernel)",
   "language": "python",
   "name": "python3"
  },
  "language_info": {
   "codemirror_mode": {
    "name": "ipython",
    "version": 3
   },
   "file_extension": ".py",
   "mimetype": "text/x-python",
   "name": "python",
   "nbconvert_exporter": "python",
   "pygments_lexer": "ipython3",
   "version": "3.8.10"
  }
 },
 "nbformat": 4,
 "nbformat_minor": 5
}
