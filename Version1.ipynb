{
 "cells": [
  {
   "cell_type": "code",
   "execution_count": 41,
   "id": "66acdf1b-9337-4584-9c99-d0be2c4e75d4",
   "metadata": {},
   "outputs": [],
   "source": [
    "import gym\n",
    "from gym import Env\n",
    "from gym.spaces import Box, Dict as DictSpace, Tuple as TupleSpace\n",
    "import random\n",
    "\n",
    "from typing import List, Dict, NewType\n",
    "import numpy as np\n",
    "\n",
    "Grid = NewType(\"GRID\",List[List[int]])"
   ]
  },
  {
   "cell_type": "code",
   "execution_count": 42,
   "id": "a3646c1f-5f86-4eea-a7e1-9af717330202",
   "metadata": {},
   "outputs": [],
   "source": [
    "sudoku_states: List[Dict[str, Grid]] = [\n",
    "    {\n",
    "        \"start\": Grid([random.sample(list(range(9)),9) for i in list(range(9))]),\n",
    "        \"end\": Grid([random.sample(list(range(1,10)),9) for i in list(range(1,10))])\n",
    "    }\n",
    "]"
   ]
  },
  {
   "cell_type": "code",
   "execution_count": 21,
   "id": "a7360300-fae1-4db1-b42f-fb1e997e955f",
   "metadata": {},
   "outputs": [],
   "source": [
    "class SudokuEnv(Env):\n",
    "    \"\"\"\n",
    "    Sudoku Environment\n",
    "    \n",
    "    Observation Space:\n",
    "        9 x 9 sudoku grid (0 represents empty space)\n",
    "        Box(low=0,high=9,shape=(9,9),dtype=int)\n",
    "        \n",
    "    Action Space: \n",
    "        Put num at given coord (coordinate)\n",
    "        {\n",
    "            \"coord\": Tuple((Box(low=1,high=9,shape=(),dtype=int),Box(low=1,high=9,shape=(),dtype=int))  \n",
    "                # coord: (x,y)  1 <= x <= 9, 1 <= y <= 9\n",
    "            \"num\": Box(low=1,high=9,shape=(),dtype=int)  # 1 <= num <= 9  \n",
    "        }\n",
    "    \n",
    "    \"\"\"\n",
    "    def __init__(self):\n",
    "        \"\"\"Initialise Sudoku Environment\"\"\"\n",
    "        self.observation_space = Box(low=0,high=9,shape=(9,9),dtype=int)\n",
    "        self.action_space = DictSpace({\n",
    "            \"coord\": TupleSpace((\n",
    "                Box(low=1,high=9,shape=(),dtype=int),\n",
    "                Box(low=1,high=9,shape=(),dtype=int)\n",
    "            )),\n",
    "            \"num\": Box(low=1,high=9,shape=(),dtype=int)\n",
    "        })\n",
    "        \n",
    "        self.state = self.__get_random_start_state()\n",
    "        \n",
    "    def step(self, action):\n",
    "        \"\"\"Takes the action in the current state\"\"\"\n",
    "        done = False\n",
    "        \n",
    "        new_state, \n",
    "        \n",
    "        \n",
    "    def render(self):\n",
    "        \"\"\"Renders the enviroment using pygame\"\"\"\n",
    "        \n",
    "    def reset(self):\n",
    "        \"\"\"Resets the environment to a random new game\"\"\"\n",
    "        \n",
    "        self.state = self.__get_random_start_state()\n",
    "    \n",
    "    def close(self):\n",
    "        \"\"\"Close the environment\"\"\"\n",
    "        \n",
    "    def __get_random_start_state(self):\n",
    "        \"\"\"Get a random start state\"\"\"\n",
    "        return [random.sample(list(range(9)),9) for i in list(range(9))]\n",
    "    "
   ]
  },
  {
   "cell_type": "code",
   "execution_count": 22,
   "id": "5657f328-4e5e-4a15-8232-70a90d8990c5",
   "metadata": {},
   "outputs": [],
   "source": [
    "env = SudokuEnv()"
   ]
  },
  {
   "cell_type": "code",
   "execution_count": 23,
   "id": "30edb736-3a79-4dad-9289-f2ca01309dca",
   "metadata": {},
   "outputs": [
    {
     "data": {
      "text/plain": [
       "OrderedDict([('coord', (7, 9)), ('num', 1)])"
      ]
     },
     "execution_count": 23,
     "metadata": {},
     "output_type": "execute_result"
    }
   ],
   "source": [
    "env.action_space.sample()"
   ]
  },
  {
   "cell_type": "code",
   "execution_count": null,
   "id": "ed50839b-694a-463d-b393-84c098d9c285",
   "metadata": {},
   "outputs": [],
   "source": []
  }
 ],
 "metadata": {
  "kernelspec": {
   "display_name": "Python 3 (ipykernel)",
   "language": "python",
   "name": "python3"
  },
  "language_info": {
   "codemirror_mode": {
    "name": "ipython",
    "version": 3
   },
   "file_extension": ".py",
   "mimetype": "text/x-python",
   "name": "python",
   "nbconvert_exporter": "python",
   "pygments_lexer": "ipython3",
   "version": "3.8.10"
  }
 },
 "nbformat": 4,
 "nbformat_minor": 5
}
